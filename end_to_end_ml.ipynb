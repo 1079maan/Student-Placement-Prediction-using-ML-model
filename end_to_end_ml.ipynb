{
 "cells": [
  {
   "cell_type": "code",
   "execution_count": 1,
   "metadata": {
    "id": "LVaHa_fkGfE2"
   },
   "outputs": [],
   "source": [
    "import numpy as np\n",
    "import pandas as pd\n"
   ]
  },
  {
   "cell_type": "code",
   "execution_count": 2,
   "metadata": {
    "id": "cXIvNW_YHsC1"
   },
   "outputs": [],
   "source": [
    "df = pd.read_csv('placement.csv')"
   ]
  },
  {
   "cell_type": "code",
   "execution_count": 3,
   "metadata": {
    "colab": {
     "base_uri": "https://localhost:8080/",
     "height": 206
    },
    "id": "ZaNGDYX1Hx0A",
    "outputId": "f52c7356-fbb0-4b50-a9c7-c8edb58bb60a"
   },
   "outputs": [
    {
     "data": {
      "text/html": [
       "<div>\n",
       "<style scoped>\n",
       "    .dataframe tbody tr th:only-of-type {\n",
       "        vertical-align: middle;\n",
       "    }\n",
       "\n",
       "    .dataframe tbody tr th {\n",
       "        vertical-align: top;\n",
       "    }\n",
       "\n",
       "    .dataframe thead th {\n",
       "        text-align: right;\n",
       "    }\n",
       "</style>\n",
       "<table border=\"1\" class=\"dataframe\">\n",
       "  <thead>\n",
       "    <tr style=\"text-align: right;\">\n",
       "      <th></th>\n",
       "      <th>Unnamed: 0</th>\n",
       "      <th>cgpa</th>\n",
       "      <th>iq</th>\n",
       "      <th>placement</th>\n",
       "    </tr>\n",
       "  </thead>\n",
       "  <tbody>\n",
       "    <tr>\n",
       "      <th>280</th>\n",
       "      <td>280</td>\n",
       "      <td>5.4</td>\n",
       "      <td>180</td>\n",
       "      <td>0</td>\n",
       "    </tr>\n",
       "    <tr>\n",
       "      <th>27</th>\n",
       "      <td>27</td>\n",
       "      <td>6.0</td>\n",
       "      <td>124</td>\n",
       "      <td>1</td>\n",
       "    </tr>\n",
       "    <tr>\n",
       "      <th>176</th>\n",
       "      <td>176</td>\n",
       "      <td>4.9</td>\n",
       "      <td>185</td>\n",
       "      <td>0</td>\n",
       "    </tr>\n",
       "    <tr>\n",
       "      <th>292</th>\n",
       "      <td>292</td>\n",
       "      <td>4.9</td>\n",
       "      <td>175</td>\n",
       "      <td>0</td>\n",
       "    </tr>\n",
       "    <tr>\n",
       "      <th>110</th>\n",
       "      <td>110</td>\n",
       "      <td>6.3</td>\n",
       "      <td>140</td>\n",
       "      <td>1</td>\n",
       "    </tr>\n",
       "  </tbody>\n",
       "</table>\n",
       "</div>"
      ],
      "text/plain": [
       "     Unnamed: 0  cgpa   iq  placement\n",
       "280         280   5.4  180          0\n",
       "27           27   6.0  124          1\n",
       "176         176   4.9  185          0\n",
       "292         292   4.9  175          0\n",
       "110         110   6.3  140          1"
      ]
     },
     "execution_count": 3,
     "metadata": {},
     "output_type": "execute_result"
    }
   ],
   "source": [
    "df.sample(5)\n"
   ]
  },
  {
   "cell_type": "code",
   "execution_count": 4,
   "metadata": {
    "colab": {
     "base_uri": "https://localhost:8080/"
    },
    "id": "ImQ8jLhyHym2",
    "outputId": "a4cb9b05-e701-4e05-90d2-769a7e56076d"
   },
   "outputs": [
    {
     "name": "stdout",
     "output_type": "stream",
     "text": [
      "<class 'pandas.core.frame.DataFrame'>\n",
      "RangeIndex: 300 entries, 0 to 299\n",
      "Data columns (total 4 columns):\n",
      " #   Column      Non-Null Count  Dtype  \n",
      "---  ------      --------------  -----  \n",
      " 0   Unnamed: 0  300 non-null    int64  \n",
      " 1   cgpa        300 non-null    float64\n",
      " 2   iq          300 non-null    int64  \n",
      " 3   placement   300 non-null    int64  \n",
      "dtypes: float64(1), int64(3)\n",
      "memory usage: 9.5 KB\n"
     ]
    }
   ],
   "source": [
    "df.info()"
   ]
  },
  {
   "cell_type": "code",
   "execution_count": 5,
   "metadata": {
    "colab": {
     "base_uri": "https://localhost:8080/"
    },
    "id": "COmwAcxKKDEj",
    "outputId": "5efc8368-ce42-47a5-fe4f-3fd3ad9a28af"
   },
   "outputs": [
    {
     "data": {
      "text/plain": [
       "(300, 4)"
      ]
     },
     "execution_count": 5,
     "metadata": {},
     "output_type": "execute_result"
    }
   ],
   "source": [
    "df.shape"
   ]
  },
  {
   "cell_type": "code",
   "execution_count": 6,
   "metadata": {
    "id": "1nVfBW6TKGQp"
   },
   "outputs": [],
   "source": [
    "df = df.iloc[:,1:]"
   ]
  },
  {
   "cell_type": "code",
   "execution_count": 7,
   "metadata": {
    "colab": {
     "base_uri": "https://localhost:8080/",
     "height": 206
    },
    "id": "2Iz-EEnhKL4m",
    "outputId": "efcb3e6f-e71e-452c-ea95-11b77277dcc4"
   },
   "outputs": [
    {
     "data": {
      "text/html": [
       "<div>\n",
       "<style scoped>\n",
       "    .dataframe tbody tr th:only-of-type {\n",
       "        vertical-align: middle;\n",
       "    }\n",
       "\n",
       "    .dataframe tbody tr th {\n",
       "        vertical-align: top;\n",
       "    }\n",
       "\n",
       "    .dataframe thead th {\n",
       "        text-align: right;\n",
       "    }\n",
       "</style>\n",
       "<table border=\"1\" class=\"dataframe\">\n",
       "  <thead>\n",
       "    <tr style=\"text-align: right;\">\n",
       "      <th></th>\n",
       "      <th>cgpa</th>\n",
       "      <th>iq</th>\n",
       "      <th>placement</th>\n",
       "    </tr>\n",
       "  </thead>\n",
       "  <tbody>\n",
       "    <tr>\n",
       "      <th>0</th>\n",
       "      <td>6.8</td>\n",
       "      <td>123</td>\n",
       "      <td>1</td>\n",
       "    </tr>\n",
       "    <tr>\n",
       "      <th>1</th>\n",
       "      <td>5.9</td>\n",
       "      <td>106</td>\n",
       "      <td>0</td>\n",
       "    </tr>\n",
       "    <tr>\n",
       "      <th>2</th>\n",
       "      <td>5.3</td>\n",
       "      <td>121</td>\n",
       "      <td>0</td>\n",
       "    </tr>\n",
       "    <tr>\n",
       "      <th>3</th>\n",
       "      <td>7.4</td>\n",
       "      <td>132</td>\n",
       "      <td>1</td>\n",
       "    </tr>\n",
       "    <tr>\n",
       "      <th>4</th>\n",
       "      <td>5.8</td>\n",
       "      <td>142</td>\n",
       "      <td>0</td>\n",
       "    </tr>\n",
       "  </tbody>\n",
       "</table>\n",
       "</div>"
      ],
      "text/plain": [
       "   cgpa   iq  placement\n",
       "0   6.8  123          1\n",
       "1   5.9  106          0\n",
       "2   5.3  121          0\n",
       "3   7.4  132          1\n",
       "4   5.8  142          0"
      ]
     },
     "execution_count": 7,
     "metadata": {},
     "output_type": "execute_result"
    }
   ],
   "source": [
    "df.head()"
   ]
  },
  {
   "cell_type": "code",
   "execution_count": 8,
   "metadata": {
    "id": "yl_EsH0YKUnp"
   },
   "outputs": [],
   "source": [
    "import matplotlib.pyplot as plt\n"
   ]
  },
  {
   "cell_type": "code",
   "execution_count": 9,
   "metadata": {
    "colab": {
     "base_uri": "https://localhost:8080/",
     "height": 490
    },
    "id": "-m6iAQfjKyWN",
    "outputId": "36fe279b-4bf6-42e8-f32a-a00e7c83c660"
   },
   "outputs": [
    {
     "data": {
      "text/plain": [
       "Text(0.5, 1.0, 'student CGPA and IQ')"
      ]
     },
     "execution_count": 9,
     "metadata": {},
     "output_type": "execute_result"
    },
    {
     "data": {
      "image/png": "[encoded data removed]",
      "text/plain": [
       "<Figure size 640x480 with 1 Axes>"
      ]
     },
     "metadata": {},
     "output_type": "display_data"
    }
   ],
   "source": [
    "plt.scatter(df['cgpa'],df['iq'])\n",
    "plt.xlabel(\"student CGPA\")\n",
    "plt.ylabel(\"student IQ\")\n",
    "plt.title(\"student CGPA and IQ\")"
   ]
  },
  {
   "cell_type": "code",
   "execution_count": 10,
   "metadata": {},
   "outputs": [
    {
     "data": {
      "text/plain": [
       "<Axes: xlabel='cgpa'>"
      ]
     },
     "execution_count": 10,
     "metadata": {},
     "output_type": "execute_result"
    },
    {
     "data": {
      "image/png": "[encoded data removed]",
      "text/plain": [
       "<Figure size 640x480 with 1 Axes>"
      ]
     },
     "metadata": {},
     "output_type": "display_data"
    }
   ],
   "source": [
    "import seaborn as sns\n",
    "\n",
    "# sns.boxplot(x = df['iq'],data=df,)\n",
    "sns.boxplot(x = df['cgpa'],data=df)\n"
   ]
  },
  {
   "cell_type": "code",
   "execution_count": 11,
   "metadata": {},
   "outputs": [
    {
     "data": {
      "text/plain": [
       "placement\n",
       "1    151\n",
       "0    149\n",
       "Name: count, dtype: int64"
      ]
     },
     "execution_count": 11,
     "metadata": {},
     "output_type": "execute_result"
    }
   ],
   "source": [
    "df['placement'].value_counts()"
   ]
  },
  {
   "cell_type": "code",
   "execution_count": 12,
   "metadata": {
    "id": "o3BQkqyALCuW"
   },
   "outputs": [],
   "source": [
    "x = df.iloc[:,0:2]\n",
    "y = df.iloc[:,-1]"
   ]
  },
  {
   "cell_type": "code",
   "execution_count": 13,
   "metadata": {
    "colab": {
     "base_uri": "https://localhost:8080/",
     "height": 423
    },
    "id": "5W3Qx1-oNUzi",
    "outputId": "61fcda65-2605-4fb1-ce25-f322665bcfe1"
   },
   "outputs": [
    {
     "data": {
      "text/html": [
       "<div>\n",
       "<style scoped>\n",
       "    .dataframe tbody tr th:only-of-type {\n",
       "        vertical-align: middle;\n",
       "    }\n",
       "\n",
       "    .dataframe tbody tr th {\n",
       "        vertical-align: top;\n",
       "    }\n",
       "\n",
       "    .dataframe thead th {\n",
       "        text-align: right;\n",
       "    }\n",
       "</style>\n",
       "<table border=\"1\" class=\"dataframe\">\n",
       "  <thead>\n",
       "    <tr style=\"text-align: right;\">\n",
       "      <th></th>\n",
       "      <th>cgpa</th>\n",
       "      <th>iq</th>\n",
       "    </tr>\n",
       "  </thead>\n",
       "  <tbody>\n",
       "    <tr>\n",
       "      <th>0</th>\n",
       "      <td>6.8</td>\n",
       "      <td>123</td>\n",
       "    </tr>\n",
       "    <tr>\n",
       "      <th>1</th>\n",
       "      <td>5.9</td>\n",
       "      <td>106</td>\n",
       "    </tr>\n",
       "    <tr>\n",
       "      <th>2</th>\n",
       "      <td>5.3</td>\n",
       "      <td>121</td>\n",
       "    </tr>\n",
       "    <tr>\n",
       "      <th>3</th>\n",
       "      <td>7.4</td>\n",
       "      <td>132</td>\n",
       "    </tr>\n",
       "    <tr>\n",
       "      <th>4</th>\n",
       "      <td>5.8</td>\n",
       "      <td>142</td>\n",
       "    </tr>\n",
       "    <tr>\n",
       "      <th>...</th>\n",
       "      <td>...</td>\n",
       "      <td>...</td>\n",
       "    </tr>\n",
       "    <tr>\n",
       "      <th>295</th>\n",
       "      <td>7.2</td>\n",
       "      <td>110</td>\n",
       "    </tr>\n",
       "    <tr>\n",
       "      <th>296</th>\n",
       "      <td>5.5</td>\n",
       "      <td>160</td>\n",
       "    </tr>\n",
       "    <tr>\n",
       "      <th>297</th>\n",
       "      <td>6.8</td>\n",
       "      <td>130</td>\n",
       "    </tr>\n",
       "    <tr>\n",
       "      <th>298</th>\n",
       "      <td>4.7</td>\n",
       "      <td>185</td>\n",
       "    </tr>\n",
       "    <tr>\n",
       "      <th>299</th>\n",
       "      <td>7.4</td>\n",
       "      <td>95</td>\n",
       "    </tr>\n",
       "  </tbody>\n",
       "</table>\n",
       "<p>300 rows × 2 columns</p>\n",
       "</div>"
      ],
      "text/plain": [
       "     cgpa   iq\n",
       "0     6.8  123\n",
       "1     5.9  106\n",
       "2     5.3  121\n",
       "3     7.4  132\n",
       "4     5.8  142\n",
       "..    ...  ...\n",
       "295   7.2  110\n",
       "296   5.5  160\n",
       "297   6.8  130\n",
       "298   4.7  185\n",
       "299   7.4   95\n",
       "\n",
       "[300 rows x 2 columns]"
      ]
     },
     "execution_count": 13,
     "metadata": {},
     "output_type": "execute_result"
    }
   ],
   "source": [
    "x"
   ]
  },
  {
   "cell_type": "code",
   "execution_count": 14,
   "metadata": {
    "colab": {
     "base_uri": "https://localhost:8080/",
     "height": 458
    },
    "id": "t9OQyeAVNVk3",
    "outputId": "5cf279be-aaf3-48cc-802e-da4293f338e2"
   },
   "outputs": [
    {
     "data": {
      "text/plain": [
       "0      1\n",
       "1      0\n",
       "2      0\n",
       "3      1\n",
       "4      0\n",
       "      ..\n",
       "295    1\n",
       "296    0\n",
       "297    1\n",
       "298    0\n",
       "299    1\n",
       "Name: placement, Length: 300, dtype: int64"
      ]
     },
     "execution_count": 14,
     "metadata": {},
     "output_type": "execute_result"
    }
   ],
   "source": [
    "y"
   ]
  },
  {
   "cell_type": "code",
   "execution_count": 15,
   "metadata": {
    "colab": {
     "base_uri": "https://localhost:8080/"
    },
    "id": "MEy6Qvh9NWZ2",
    "outputId": "291fa8b3-1537-4fa7-ba6f-de781afb459b"
   },
   "outputs": [
    {
     "data": {
      "text/plain": [
       "(300,)"
      ]
     },
     "execution_count": 15,
     "metadata": {},
     "output_type": "execute_result"
    }
   ],
   "source": [
    "y.shape"
   ]
  },
  {
   "cell_type": "code",
   "execution_count": 16,
   "metadata": {
    "id": "K8f2rqE5NZOB"
   },
   "outputs": [],
   "source": [
    "from sklearn.model_selection import train_test_split\n"
   ]
  },
  {
   "cell_type": "code",
   "execution_count": 17,
   "metadata": {
    "id": "cG9tuYr4kQ_F"
   },
   "outputs": [],
   "source": [
    "x_train,x_test,y_train,y_test = train_test_split(x,y,test_size=0.15,random_state=42)"
   ]
  },
  {
   "cell_type": "code",
   "execution_count": 18,
   "metadata": {
    "colab": {
     "base_uri": "https://localhost:8080/",
     "height": 423
    },
    "id": "OPdLbtL7kjN9",
    "outputId": "aedf4cd9-f379-4ee3-9d41-d926bedc846e"
   },
   "outputs": [
    {
     "data": {
      "text/html": [
       "<div>\n",
       "<style scoped>\n",
       "    .dataframe tbody tr th:only-of-type {\n",
       "        vertical-align: middle;\n",
       "    }\n",
       "\n",
       "    .dataframe tbody tr th {\n",
       "        vertical-align: top;\n",
       "    }\n",
       "\n",
       "    .dataframe thead th {\n",
       "        text-align: right;\n",
       "    }\n",
       "</style>\n",
       "<table border=\"1\" class=\"dataframe\">\n",
       "  <thead>\n",
       "    <tr style=\"text-align: right;\">\n",
       "      <th></th>\n",
       "      <th>cgpa</th>\n",
       "      <th>iq</th>\n",
       "    </tr>\n",
       "  </thead>\n",
       "  <tbody>\n",
       "    <tr>\n",
       "      <th>63</th>\n",
       "      <td>6.3</td>\n",
       "      <td>128</td>\n",
       "    </tr>\n",
       "    <tr>\n",
       "      <th>234</th>\n",
       "      <td>5.0</td>\n",
       "      <td>200</td>\n",
       "    </tr>\n",
       "    <tr>\n",
       "      <th>229</th>\n",
       "      <td>8.0</td>\n",
       "      <td>90</td>\n",
       "    </tr>\n",
       "    <tr>\n",
       "      <th>111</th>\n",
       "      <td>7.8</td>\n",
       "      <td>75</td>\n",
       "    </tr>\n",
       "    <tr>\n",
       "      <th>231</th>\n",
       "      <td>7.5</td>\n",
       "      <td>130</td>\n",
       "    </tr>\n",
       "    <tr>\n",
       "      <th>...</th>\n",
       "      <td>...</td>\n",
       "      <td>...</td>\n",
       "    </tr>\n",
       "    <tr>\n",
       "      <th>188</th>\n",
       "      <td>4.7</td>\n",
       "      <td>190</td>\n",
       "    </tr>\n",
       "    <tr>\n",
       "      <th>71</th>\n",
       "      <td>6.1</td>\n",
       "      <td>132</td>\n",
       "    </tr>\n",
       "    <tr>\n",
       "      <th>106</th>\n",
       "      <td>6.5</td>\n",
       "      <td>110</td>\n",
       "    </tr>\n",
       "    <tr>\n",
       "      <th>270</th>\n",
       "      <td>5.3</td>\n",
       "      <td>145</td>\n",
       "    </tr>\n",
       "    <tr>\n",
       "      <th>102</th>\n",
       "      <td>7.2</td>\n",
       "      <td>85</td>\n",
       "    </tr>\n",
       "  </tbody>\n",
       "</table>\n",
       "<p>255 rows × 2 columns</p>\n",
       "</div>"
      ],
      "text/plain": [
       "     cgpa   iq\n",
       "63    6.3  128\n",
       "234   5.0  200\n",
       "229   8.0   90\n",
       "111   7.8   75\n",
       "231   7.5  130\n",
       "..    ...  ...\n",
       "188   4.7  190\n",
       "71    6.1  132\n",
       "106   6.5  110\n",
       "270   5.3  145\n",
       "102   7.2   85\n",
       "\n",
       "[255 rows x 2 columns]"
      ]
     },
     "execution_count": 18,
     "metadata": {},
     "output_type": "execute_result"
    }
   ],
   "source": [
    "x_train"
   ]
  },
  {
   "cell_type": "code",
   "execution_count": 19,
   "metadata": {
    "colab": {
     "base_uri": "https://localhost:8080/",
     "height": 458
    },
    "id": "APgTlluIlYsF",
    "outputId": "530a1ab1-8487-4863-833c-718d02f8cf04"
   },
   "outputs": [
    {
     "data": {
      "text/plain": [
       "63     1\n",
       "234    0\n",
       "229    1\n",
       "111    1\n",
       "231    1\n",
       "      ..\n",
       "188    0\n",
       "71     1\n",
       "106    1\n",
       "270    0\n",
       "102    1\n",
       "Name: placement, Length: 255, dtype: int64"
      ]
     },
     "execution_count": 19,
     "metadata": {},
     "output_type": "execute_result"
    }
   ],
   "source": [
    "y_train"
   ]
  },
  {
   "cell_type": "code",
   "execution_count": 20,
   "metadata": {
    "colab": {
     "base_uri": "https://localhost:8080/",
     "height": 554
    },
    "id": "-GtdqfnYlaFj",
    "outputId": "83d17423-1a45-4440-c896-a42c0963893a"
   },
   "outputs": [
    {
     "data": {
      "text/plain": [
       "(45,)"
      ]
     },
     "execution_count": 20,
     "metadata": {},
     "output_type": "execute_result"
    }
   ],
   "source": [
    "y_test.shape"
   ]
  },
  {
   "cell_type": "code",
   "execution_count": 21,
   "metadata": {
    "colab": {
     "base_uri": "https://localhost:8080/"
    },
    "id": "BLiB8h1Ald1j",
    "outputId": "7b7f4383-bb79-4045-9bb4-dbba5eb499fb"
   },
   "outputs": [
    {
     "data": {
      "text/html": [
       "<div>\n",
       "<style scoped>\n",
       "    .dataframe tbody tr th:only-of-type {\n",
       "        vertical-align: middle;\n",
       "    }\n",
       "\n",
       "    .dataframe tbody tr th {\n",
       "        vertical-align: top;\n",
       "    }\n",
       "\n",
       "    .dataframe thead th {\n",
       "        text-align: right;\n",
       "    }\n",
       "</style>\n",
       "<table border=\"1\" class=\"dataframe\">\n",
       "  <thead>\n",
       "    <tr style=\"text-align: right;\">\n",
       "      <th></th>\n",
       "      <th>cgpa</th>\n",
       "      <th>iq</th>\n",
       "    </tr>\n",
       "  </thead>\n",
       "  <tbody>\n",
       "    <tr>\n",
       "      <th>203</th>\n",
       "      <td>6.9</td>\n",
       "      <td>110</td>\n",
       "    </tr>\n",
       "    <tr>\n",
       "      <th>266</th>\n",
       "      <td>5.5</td>\n",
       "      <td>155</td>\n",
       "    </tr>\n",
       "    <tr>\n",
       "      <th>152</th>\n",
       "      <td>4.9</td>\n",
       "      <td>185</td>\n",
       "    </tr>\n",
       "    <tr>\n",
       "      <th>9</th>\n",
       "      <td>5.1</td>\n",
       "      <td>66</td>\n",
       "    </tr>\n",
       "    <tr>\n",
       "      <th>233</th>\n",
       "      <td>6.7</td>\n",
       "      <td>120</td>\n",
       "    </tr>\n",
       "    <tr>\n",
       "      <th>226</th>\n",
       "      <td>4.5</td>\n",
       "      <td>190</td>\n",
       "    </tr>\n",
       "    <tr>\n",
       "      <th>196</th>\n",
       "      <td>4.6</td>\n",
       "      <td>200</td>\n",
       "    </tr>\n",
       "    <tr>\n",
       "      <th>109</th>\n",
       "      <td>5.1</td>\n",
       "      <td>125</td>\n",
       "    </tr>\n",
       "    <tr>\n",
       "      <th>5</th>\n",
       "      <td>7.1</td>\n",
       "      <td>48</td>\n",
       "    </tr>\n",
       "    <tr>\n",
       "      <th>175</th>\n",
       "      <td>6.9</td>\n",
       "      <td>115</td>\n",
       "    </tr>\n",
       "    <tr>\n",
       "      <th>237</th>\n",
       "      <td>6.8</td>\n",
       "      <td>115</td>\n",
       "    </tr>\n",
       "    <tr>\n",
       "      <th>57</th>\n",
       "      <td>6.5</td>\n",
       "      <td>130</td>\n",
       "    </tr>\n",
       "    <tr>\n",
       "      <th>218</th>\n",
       "      <td>5.1</td>\n",
       "      <td>170</td>\n",
       "    </tr>\n",
       "    <tr>\n",
       "      <th>45</th>\n",
       "      <td>6.0</td>\n",
       "      <td>66</td>\n",
       "    </tr>\n",
       "    <tr>\n",
       "      <th>182</th>\n",
       "      <td>5.7</td>\n",
       "      <td>150</td>\n",
       "    </tr>\n",
       "    <tr>\n",
       "      <th>221</th>\n",
       "      <td>6.9</td>\n",
       "      <td>115</td>\n",
       "    </tr>\n",
       "    <tr>\n",
       "      <th>289</th>\n",
       "      <td>8.0</td>\n",
       "      <td>90</td>\n",
       "    </tr>\n",
       "    <tr>\n",
       "      <th>211</th>\n",
       "      <td>6.5</td>\n",
       "      <td>130</td>\n",
       "    </tr>\n",
       "    <tr>\n",
       "      <th>148</th>\n",
       "      <td>4.6</td>\n",
       "      <td>175</td>\n",
       "    </tr>\n",
       "    <tr>\n",
       "      <th>165</th>\n",
       "      <td>7.5</td>\n",
       "      <td>100</td>\n",
       "    </tr>\n",
       "    <tr>\n",
       "      <th>78</th>\n",
       "      <td>6.1</td>\n",
       "      <td>81</td>\n",
       "    </tr>\n",
       "    <tr>\n",
       "      <th>113</th>\n",
       "      <td>6.1</td>\n",
       "      <td>115</td>\n",
       "    </tr>\n",
       "    <tr>\n",
       "      <th>249</th>\n",
       "      <td>7.7</td>\n",
       "      <td>90</td>\n",
       "    </tr>\n",
       "    <tr>\n",
       "      <th>250</th>\n",
       "      <td>5.4</td>\n",
       "      <td>145</td>\n",
       "    </tr>\n",
       "    <tr>\n",
       "      <th>104</th>\n",
       "      <td>8.0</td>\n",
       "      <td>130</td>\n",
       "    </tr>\n",
       "    <tr>\n",
       "      <th>42</th>\n",
       "      <td>7.6</td>\n",
       "      <td>89</td>\n",
       "    </tr>\n",
       "    <tr>\n",
       "      <th>281</th>\n",
       "      <td>6.9</td>\n",
       "      <td>110</td>\n",
       "    </tr>\n",
       "    <tr>\n",
       "      <th>295</th>\n",
       "      <td>7.2</td>\n",
       "      <td>110</td>\n",
       "    </tr>\n",
       "    <tr>\n",
       "      <th>157</th>\n",
       "      <td>7.0</td>\n",
       "      <td>105</td>\n",
       "    </tr>\n",
       "    <tr>\n",
       "      <th>238</th>\n",
       "      <td>4.7</td>\n",
       "      <td>180</td>\n",
       "    </tr>\n",
       "    <tr>\n",
       "      <th>17</th>\n",
       "      <td>3.3</td>\n",
       "      <td>183</td>\n",
       "    </tr>\n",
       "    <tr>\n",
       "      <th>164</th>\n",
       "      <td>4.8</td>\n",
       "      <td>165</td>\n",
       "    </tr>\n",
       "    <tr>\n",
       "      <th>33</th>\n",
       "      <td>6.0</td>\n",
       "      <td>149</td>\n",
       "    </tr>\n",
       "    <tr>\n",
       "      <th>24</th>\n",
       "      <td>4.7</td>\n",
       "      <td>121</td>\n",
       "    </tr>\n",
       "    <tr>\n",
       "      <th>215</th>\n",
       "      <td>6.8</td>\n",
       "      <td>120</td>\n",
       "    </tr>\n",
       "    <tr>\n",
       "      <th>119</th>\n",
       "      <td>7.3</td>\n",
       "      <td>80</td>\n",
       "    </tr>\n",
       "    <tr>\n",
       "      <th>7</th>\n",
       "      <td>5.0</td>\n",
       "      <td>63</td>\n",
       "    </tr>\n",
       "    <tr>\n",
       "      <th>90</th>\n",
       "      <td>7.3</td>\n",
       "      <td>86</td>\n",
       "    </tr>\n",
       "    <tr>\n",
       "      <th>46</th>\n",
       "      <td>5.3</td>\n",
       "      <td>114</td>\n",
       "    </tr>\n",
       "    <tr>\n",
       "      <th>73</th>\n",
       "      <td>4.9</td>\n",
       "      <td>61</td>\n",
       "    </tr>\n",
       "    <tr>\n",
       "      <th>93</th>\n",
       "      <td>6.8</td>\n",
       "      <td>112</td>\n",
       "    </tr>\n",
       "    <tr>\n",
       "      <th>76</th>\n",
       "      <td>4.9</td>\n",
       "      <td>155</td>\n",
       "    </tr>\n",
       "    <tr>\n",
       "      <th>286</th>\n",
       "      <td>4.5</td>\n",
       "      <td>190</td>\n",
       "    </tr>\n",
       "    <tr>\n",
       "      <th>60</th>\n",
       "      <td>6.9</td>\n",
       "      <td>139</td>\n",
       "    </tr>\n",
       "    <tr>\n",
       "      <th>77</th>\n",
       "      <td>7.3</td>\n",
       "      <td>50</td>\n",
       "    </tr>\n",
       "  </tbody>\n",
       "</table>\n",
       "</div>"
      ],
      "text/plain": [
       "     cgpa   iq\n",
       "203   6.9  110\n",
       "266   5.5  155\n",
       "152   4.9  185\n",
       "9     5.1   66\n",
       "233   6.7  120\n",
       "226   4.5  190\n",
       "196   4.6  200\n",
       "109   5.1  125\n",
       "5     7.1   48\n",
       "175   6.9  115\n",
       "237   6.8  115\n",
       "57    6.5  130\n",
       "218   5.1  170\n",
       "45    6.0   66\n",
       "182   5.7  150\n",
       "221   6.9  115\n",
       "289   8.0   90\n",
       "211   6.5  130\n",
       "148   4.6  175\n",
       "165   7.5  100\n",
       "78    6.1   81\n",
       "113   6.1  115\n",
       "249   7.7   90\n",
       "250   5.4  145\n",
       "104   8.0  130\n",
       "42    7.6   89\n",
       "281   6.9  110\n",
       "295   7.2  110\n",
       "157   7.0  105\n",
       "238   4.7  180\n",
       "17    3.3  183\n",
       "164   4.8  165\n",
       "33    6.0  149\n",
       "24    4.7  121\n",
       "215   6.8  120\n",
       "119   7.3   80\n",
       "7     5.0   63\n",
       "90    7.3   86\n",
       "46    5.3  114\n",
       "73    4.9   61\n",
       "93    6.8  112\n",
       "76    4.9  155\n",
       "286   4.5  190\n",
       "60    6.9  139\n",
       "77    7.3   50"
      ]
     },
     "execution_count": 21,
     "metadata": {},
     "output_type": "execute_result"
    }
   ],
   "source": [
    "x_test"
   ]
  },
  {
   "cell_type": "code",
   "execution_count": 22,
   "metadata": {
    "id": "lZnmlJxJlhZu"
   },
   "outputs": [],
   "source": [
    "from sklearn.preprocessing import StandardScaler"
   ]
  },
  {
   "cell_type": "code",
   "execution_count": 23,
   "metadata": {
    "id": "CeZ-TN6AmP3v"
   },
   "outputs": [],
   "source": [
    "scalre = StandardScaler()"
   ]
  },
  {
   "cell_type": "code",
   "execution_count": 24,
   "metadata": {
    "id": "c9ycRacxmTKS"
   },
   "outputs": [],
   "source": [
    "x_train = scalre.fit_transform(x_train)"
   ]
  },
  {
   "cell_type": "code",
   "execution_count": 25,
   "metadata": {
    "colab": {
     "base_uri": "https://localhost:8080/"
    },
    "id": "IWF5R04-mgm4",
    "outputId": "c5b91e14-4fb1-45eb-88da-748ec9c311b3",
    "scrolled": true
   },
   "outputs": [
    {
     "data": {
      "text/plain": [
       "array([[ 0.18606666, -0.2015774 ],\n",
       "       [-0.96255716,  1.80981447],\n",
       "       [ 1.68811321, -1.26314533],\n",
       "       [ 1.51140185, -1.68218531],\n",
       "       [ 1.24633481, -0.1457054 ],\n",
       "       [-1.13926852,  1.67013448],\n",
       "       [-1.2276242 ,  1.53045449],\n",
       "       [ 1.15797913, -1.12346534],\n",
       "       [-1.13926852,  0.94379853],\n",
       "       [ 0.62784506, -0.1457054 ],\n",
       "       [-0.87420148,  0.41301456],\n",
       "       [ 0.53948938,  1.30696651],\n",
       "       [-0.7858458 , -0.70442537],\n",
       "       [-1.05091284,  1.11141452],\n",
       "       [-0.96255716, -1.23520933],\n",
       "       [-1.05091284,  1.11141452],\n",
       "       [-1.13926852, -0.64855337],\n",
       "       [-0.34406741,  0.21746257],\n",
       "       [ 1.33469049, -0.70442537],\n",
       "       [ 1.51140185, -1.40282532],\n",
       "       [ 1.33469049, -0.2015774 ],\n",
       "       [-1.05091284, -0.42506538],\n",
       "       [-1.40433556,  1.67013448],\n",
       "       [ 0.00935531, -1.96154529],\n",
       "       [-0.87420148,  0.83205454],\n",
       "       [ 1.24633481, -1.12346534],\n",
       "       [-0.7858458 ,  1.3907745 ],\n",
       "       [ 0.00935531,  0.27333457],\n",
       "       [ 1.59975753, -1.26314533],\n",
       "       [ 1.77646889, -0.98378535],\n",
       "       [-1.13926852,  0.83205454],\n",
       "       [ 0.36277802, -2.74375324],\n",
       "       [-0.34406741,  0.94379853],\n",
       "       [ 0.71620074, -1.09552934],\n",
       "       [-0.7858458 ,  0.97173453],\n",
       "       [ 0.53948938, -0.70442537],\n",
       "       [-0.43242309,  0.27333457],\n",
       "       [-0.7858458 , -0.08983341],\n",
       "       [-1.31597988,  1.11141452],\n",
       "       [ 0.36277802, -1.26314533],\n",
       "       [ 0.80455642, -0.98378535],\n",
       "       [-0.96255716,  1.53045449],\n",
       "       [ 1.06962345, -0.53680938],\n",
       "       [-0.87420148,  1.13935052],\n",
       "       [-0.07900037, -2.52026525],\n",
       "       [-0.43242309,  0.27333457],\n",
       "       [-0.60913445,  0.27333457],\n",
       "       [-1.84611395, -1.68218531],\n",
       "       [-0.43242309,  0.83205454],\n",
       "       [ 1.77646889,  0.38507856],\n",
       "       [-0.7858458 ,  2.48027843],\n",
       "       [ 0.36277802, -0.42506538],\n",
       "       [ 0.36277802, -0.28538539],\n",
       "       [-0.34406741,  0.69237454],\n",
       "       [-0.96255716, -0.48093738],\n",
       "       [-0.7858458 ,  0.55269455],\n",
       "       [ 2.1298916 , -0.42506538],\n",
       "       [-1.93446963, -0.73236137],\n",
       "       [ 0.18606666, -0.00602541],\n",
       "       [ 0.98126778, -0.98378535],\n",
       "       [ 0.27442234, -0.28538539],\n",
       "       [-1.13926852,  1.25109451],\n",
       "       [-1.84611395, -0.98378535],\n",
       "       [ 0.98126778, -1.12346534],\n",
       "       [-1.49269123, -2.60407325],\n",
       "       [-1.05091284,  1.67013448],\n",
       "       [-1.13926852,  1.25109451],\n",
       "       [-0.87420148, -0.2015774 ],\n",
       "       [-0.87420148,  0.55269455],\n",
       "       [ 0.36277802, -0.28538539],\n",
       "       [ 1.86482456, -1.26314533],\n",
       "       [-0.87420148,  0.55269455],\n",
       "       [-1.05091284,  1.11141452],\n",
       "       [ 1.06962345, -0.84410536],\n",
       "       [-0.52077877,  0.55269455],\n",
       "       [ 1.51140185, -0.59268137],\n",
       "       [-1.31597988,  1.11141452],\n",
       "       [-1.40433556,  1.25109451],\n",
       "       [ 0.62784506, -0.28538539],\n",
       "       [ 0.18606666, -0.42506538],\n",
       "       [ 1.06962345, -0.56474538],\n",
       "       [ 0.36277802,  0.69237454],\n",
       "       [ 0.09771099, -0.42506538],\n",
       "       [ 0.27442234, -0.42506538],\n",
       "       [ 1.06962345, -0.98378535],\n",
       "       [ 1.33469049, -1.40282532],\n",
       "       [-1.2276242 ,  1.25109451],\n",
       "       [-1.2276242 ,  1.53045449],\n",
       "       [ 0.27442234, -0.00602541],\n",
       "       [ 0.8929121 , -1.12346534],\n",
       "       [ 0.4511337 , -0.42506538],\n",
       "       [ 0.27442234, -0.1457054 ],\n",
       "       [-1.05091284,  1.3907745 ],\n",
       "       [-0.69749012,  0.97173453],\n",
       "       [-0.69749012, -0.39712939],\n",
       "       [-0.69749012,  0.55269455],\n",
       "       [ 0.62784506, -0.70442537],\n",
       "       [ 1.15797913, -0.98378535],\n",
       "       [-1.13926852,  0.83205454],\n",
       "       [-0.69749012,  0.27333457],\n",
       "       [ 0.00935531,  0.41301456],\n",
       "       [ 1.15797913, -0.70442537],\n",
       "       [ 0.53948938,  0.52475856],\n",
       "       [ 0.80455642, -0.64855337],\n",
       "       [ 1.24633481, -0.1457054 ],\n",
       "       [ 1.15797913, -1.26314533],\n",
       "       [-1.40433556,  1.80981447],\n",
       "       [ 1.06962345, -0.98378535],\n",
       "       [-0.7858458 ,  0.97173453],\n",
       "       [-0.60913445,  1.25109451],\n",
       "       [-1.31597988,  1.53045449],\n",
       "       [-1.13926852,  1.25109451],\n",
       "       [ 1.77646889,  0.85999053],\n",
       "       [-0.7858458 ,  0.97173453],\n",
       "       [-0.25571173,  0.85999053],\n",
       "       [ 1.15797913, -1.40282532],\n",
       "       [ 1.68811321, -1.12346534],\n",
       "       [-0.60913445,  0.10571858],\n",
       "       [ 0.62784506, -1.26314533],\n",
       "       [-0.7858458 , -1.26314533],\n",
       "       [-0.52077877,  0.83205454],\n",
       "       [-0.43242309,  0.55269455],\n",
       "       [-0.43242309,  0.69237454],\n",
       "       [-0.16735605,  0.27333457],\n",
       "       [-1.13926852,  0.16159058],\n",
       "       [-1.58104691,  1.80981447],\n",
       "       [-1.2276242 ,  1.53045449],\n",
       "       [ 0.8929121 , -0.70442537],\n",
       "       [-0.60913445, -0.59268137],\n",
       "       [-1.05091284,  0.44095056],\n",
       "       [-0.34406741,  0.83205454],\n",
       "       [-1.49269123,  0.97173453],\n",
       "       [ 0.80455642,  1.78187848],\n",
       "       [ 0.53948938, -0.84410536],\n",
       "       [ 1.59975753, -1.12346534],\n",
       "       [ 0.00935531,  0.41301456],\n",
       "       [ 0.62784506, -0.34125739],\n",
       "       [-1.2276242 ,  1.3907745 ],\n",
       "       [-1.05091284,  1.53045449],\n",
       "       [ 0.62784506, -0.42506538],\n",
       "       [ 1.77646889, -1.12346534],\n",
       "       [ 0.27442234, -0.42506538],\n",
       "       [ 0.4511337 , -0.1457054 ],\n",
       "       [ 0.18606666, -0.89997735],\n",
       "       [-0.34406741,  0.13365458],\n",
       "       [ 1.06962345,  0.04984659],\n",
       "       [-0.69749012,  0.69237454],\n",
       "       [-0.52077877,  0.69237454],\n",
       "       [-0.96255716,  1.25109451],\n",
       "       [-1.13926852,  1.3907745 ],\n",
       "       [ 0.71620074,  0.07778258],\n",
       "       [-0.52077877,  0.69237454],\n",
       "       [ 0.62784506, -0.1457054 ],\n",
       "       [-0.07900037, -0.31332139],\n",
       "       [ 1.42304617, -1.12346534],\n",
       "       [-0.25571173,  0.18952658],\n",
       "       [-0.43242309,  0.41301456],\n",
       "       [ 0.80455642,  0.10571858],\n",
       "       [-1.13926852,  0.83205454],\n",
       "       [-0.96255716,  1.25109451],\n",
       "       [ 1.51140185, -1.26314533],\n",
       "       [ 0.27442234, -0.28538539],\n",
       "       [-0.16735605,  0.41301456],\n",
       "       [-0.07900037, -0.92791335],\n",
       "       [ 0.4511337 , -0.1457054 ],\n",
       "       [-0.07900037,  0.13365458],\n",
       "       [ 0.00935531,  0.27333457],\n",
       "       [ 0.00935531,  0.58063055],\n",
       "       [ 0.18606666, -0.2295134 ],\n",
       "       [-0.96255716,  0.83205454],\n",
       "       [ 0.80455642, -1.98948129],\n",
       "       [ 1.24633481, -2.07328928],\n",
       "       [ 1.42304617, -0.1457054 ],\n",
       "       [-1.40433556,  1.80981447],\n",
       "       [-1.05091284, -0.03396141],\n",
       "       [ 1.42304617, -1.8218653 ],\n",
       "       [ 0.36277802, -0.56474538],\n",
       "       [-1.31597988,  1.3907745 ],\n",
       "       [ 1.42304617, -1.54250531],\n",
       "       [-1.2276242 , -1.34695333],\n",
       "       [ 1.24633481, -0.28538539],\n",
       "       [ 0.18606666,  0.13365458],\n",
       "       [-0.60913445, -0.78823336],\n",
       "       [ 0.4511337 , -0.28538539],\n",
       "       [-1.05091284,  1.11141452],\n",
       "       [-1.31597988,  0.30127057],\n",
       "       [-0.69749012,  0.41301456],\n",
       "       [ 1.24633481, -0.42506538],\n",
       "       [-0.7858458 ,  0.97173453],\n",
       "       [ 1.77646889, -1.12346534],\n",
       "       [ 0.00935531, -0.89997735],\n",
       "       [-0.7858458 ,  0.72031054],\n",
       "       [-1.2276242 , -2.32471326],\n",
       "       [ 0.53948938, -0.70442537],\n",
       "       [ 0.80455642, -0.70442537],\n",
       "       [ 1.51140185, -0.84410536],\n",
       "       [ 1.24633481, -0.56474538],\n",
       "       [ 1.06962345, -0.42506538],\n",
       "       [ 0.62784506,  0.16159058],\n",
       "       [ 0.8929121 , -0.84410536],\n",
       "       [ 0.98126778, -0.98378535],\n",
       "       [-0.60913445,  0.55269455],\n",
       "       [-0.60913445,  0.41301456],\n",
       "       [ 0.71620074, -0.1457054 ],\n",
       "       [ 1.15797913, -0.08983341],\n",
       "       [-0.34406741,  0.97173453],\n",
       "       [ 1.95318024,  0.91586253],\n",
       "       [ 0.8929121 , -0.56474538],\n",
       "       [-0.16735605, -0.81616936],\n",
       "       [ 0.53948938, -1.26314533],\n",
       "       [-1.05091284,  0.69237454],\n",
       "       [-0.60913445, -0.00602541],\n",
       "       [-1.05091284,  1.69807048],\n",
       "       [ 0.98126778, -0.98378535],\n",
       "       [-1.13926852,  0.77618254],\n",
       "       [ 1.24633481,  0.63650255],\n",
       "       [ 0.80455642,  1.11141452],\n",
       "       [ 0.4511337 , -0.00602541],\n",
       "       [ 0.27442234, -0.53680938],\n",
       "       [-1.49269123,  0.38507856],\n",
       "       [-0.60913445,  0.55269455],\n",
       "       [-0.96255716,  1.80981447],\n",
       "       [-0.25571173,  0.27333457],\n",
       "       [ 0.80455642, -0.56474538],\n",
       "       [ 1.59975753, -0.98378535],\n",
       "       [ 0.27442234,  0.16159058],\n",
       "       [-2.28789234,  2.73170242],\n",
       "       [-0.52077877,  0.69237454],\n",
       "       [ 0.80455642, -0.98378535],\n",
       "       [-1.2276242 ,  1.3907745 ],\n",
       "       [ 0.62784506, -0.28538539],\n",
       "       [ 0.8929121 , -1.26314533],\n",
       "       [ 1.68811321, -1.57044131],\n",
       "       [ 0.4511337 ,  0.07778258],\n",
       "       [ 0.98126778, -0.84410536],\n",
       "       [-1.05091284,  1.11141452],\n",
       "       [ 0.8929121 ,  0.44095056],\n",
       "       [ 0.00935531,  0.41301456],\n",
       "       [-1.31597988,  1.11141452],\n",
       "       [ 0.53948938, -0.1457054 ],\n",
       "       [ 0.80455642, -0.84410536],\n",
       "       [ 1.15797913, -1.26314533],\n",
       "       [-3.25980481,  0.69237454],\n",
       "       [ 0.71620074, -0.56474538],\n",
       "       [ 0.09771099, -0.62061737],\n",
       "       [-0.34406741, -0.08983341],\n",
       "       [-0.34406741,  0.69237454],\n",
       "       [ 0.71620074, -0.84410536],\n",
       "       [ 1.15797913, -1.12346534],\n",
       "       [ 0.4511337 , -0.42506538],\n",
       "       [-1.2276242 ,  1.53045449],\n",
       "       [ 0.00935531, -0.08983341],\n",
       "       [ 0.36277802, -0.70442537],\n",
       "       [-0.69749012,  0.27333457],\n",
       "       [ 0.98126778, -1.40282532]])"
      ]
     },
     "execution_count": 25,
     "metadata": {},
     "output_type": "execute_result"
    }
   ],
   "source": [
    "x_train"
   ]
  },
  {
   "cell_type": "code",
   "execution_count": 26,
   "metadata": {
    "id": "-IqkhrKMnPIQ"
   },
   "outputs": [],
   "source": [
    "x_test = scalre.transform(x_test)"
   ]
  },
  {
   "cell_type": "code",
   "execution_count": 27,
   "metadata": {
    "colab": {
     "base_uri": "https://localhost:8080/"
    },
    "id": "-QFWaN5mnUd_",
    "outputId": "c205edf5-a1c3-4250-bb0e-4b1f042b6966",
    "scrolled": true
   },
   "outputs": [
    {
     "data": {
      "text/plain": [
       "array([[ 0.71620074, -0.70442537],\n",
       "       [-0.52077877,  0.55269455],\n",
       "       [-1.05091284,  1.3907745 ],\n",
       "       [-0.87420148, -1.93360929],\n",
       "       [ 0.53948938, -0.42506538],\n",
       "       [-1.40433556,  1.53045449],\n",
       "       [-1.31597988,  1.80981447],\n",
       "       [-0.87420148, -0.28538539],\n",
       "       [ 0.8929121 , -2.43645726],\n",
       "       [ 0.71620074, -0.56474538],\n",
       "       [ 0.62784506, -0.56474538],\n",
       "       [ 0.36277802, -0.1457054 ],\n",
       "       [-0.87420148,  0.97173453],\n",
       "       [-0.07900037, -1.93360929],\n",
       "       [-0.34406741,  0.41301456],\n",
       "       [ 0.71620074, -0.56474538],\n",
       "       [ 1.68811321, -1.26314533],\n",
       "       [ 0.36277802, -0.1457054 ],\n",
       "       [-1.31597988,  1.11141452],\n",
       "       [ 1.24633481, -0.98378535],\n",
       "       [ 0.00935531, -1.51456932],\n",
       "       [ 0.00935531, -0.56474538],\n",
       "       [ 1.42304617, -1.26314533],\n",
       "       [-0.60913445,  0.27333457],\n",
       "       [ 1.68811321, -0.1457054 ],\n",
       "       [ 1.33469049, -1.29108133],\n",
       "       [ 0.71620074, -0.70442537],\n",
       "       [ 0.98126778, -0.70442537],\n",
       "       [ 0.80455642, -0.84410536],\n",
       "       [-1.2276242 ,  1.25109451],\n",
       "       [-2.4646037 ,  1.3349025 ],\n",
       "       [-1.13926852,  0.83205454],\n",
       "       [-0.07900037,  0.38507856],\n",
       "       [-1.2276242 , -0.39712939],\n",
       "       [ 0.62784506, -0.42506538],\n",
       "       [ 1.06962345, -1.54250531],\n",
       "       [-0.96255716, -2.01741728],\n",
       "       [ 1.06962345, -1.37488932],\n",
       "       [-0.69749012, -0.59268137],\n",
       "       [-1.05091284, -2.07328928],\n",
       "       [ 0.62784506, -0.64855337],\n",
       "       [-1.05091284,  0.55269455],\n",
       "       [-1.40433556,  1.53045449],\n",
       "       [ 0.71620074,  0.10571858],\n",
       "       [ 1.06962345, -2.38058526]])"
      ]
     },
     "execution_count": 27,
     "metadata": {},
     "output_type": "execute_result"
    }
   ],
   "source": [
    "x_test"
   ]
  },
  {
   "cell_type": "code",
   "execution_count": 28,
   "metadata": {
    "id": "ELyqt1PfojWh"
   },
   "outputs": [],
   "source": [
    "from sklearn.linear_model import LogisticRegression"
   ]
  },
  {
   "cell_type": "code",
   "execution_count": 29,
   "metadata": {
    "id": "XJ2B1-MepVQM"
   },
   "outputs": [],
   "source": [
    "clf = LogisticRegression()"
   ]
  },
  {
   "cell_type": "code",
   "execution_count": 30,
   "metadata": {
    "colab": {
     "base_uri": "https://localhost:8080/",
     "height": 80
    },
    "id": "Rom1ZyALpY5B",
    "outputId": "10401de3-dab1-4f14-ebf1-b809412036da"
   },
   "outputs": [
    {
     "data": {
      "text/html": [
       "<style>#sk-container-id-1 {\n",
       "  /* Definition of color scheme common for light and dark mode */\n",
       "  --sklearn-color-text: #000;\n",
       "  --sklearn-color-text-muted: #666;\n",
       "  --sklearn-color-line: gray;\n",
       "  /* Definition of color scheme for unfitted estimators */\n",
       "  --sklearn-color-unfitted-level-0: #fff5e6;\n",
       "  --sklearn-color-unfitted-level-1: #f6e4d2;\n",
       "  --sklearn-color-unfitted-level-2: #ffe0b3;\n",
       "  --sklearn-color-unfitted-level-3: chocolate;\n",
       "  /* Definition of color scheme for fitted estimators */\n",
       "  --sklearn-color-fitted-level-0: #f0f8ff;\n",
       "  --sklearn-color-fitted-level-1: #d4ebff;\n",
       "  --sklearn-color-fitted-level-2: #b3dbfd;\n",
       "  --sklearn-color-fitted-level-3: cornflowerblue;\n",
       "\n",
       "  /* Specific color for light theme */\n",
       "  --sklearn-color-text-on-default-background: var(--sg-text-color, var(--theme-code-foreground, var(--jp-content-font-color1, black)));\n",
       "  --sklearn-color-background: var(--sg-background-color, var(--theme-background, var(--jp-layout-color0, white)));\n",
       "  --sklearn-color-border-box: var(--sg-text-color, var(--theme-code-foreground, var(--jp-content-font-color1, black)));\n",
       "  --sklearn-color-icon: #696969;\n",
       "\n",
       "  @media (prefers-color-scheme: dark) {\n",
       "    /* Redefinition of color scheme for dark theme */\n",
       "    --sklearn-color-text-on-default-background: var(--sg-text-color, var(--theme-code-foreground, var(--jp-content-font-color1, white)));\n",
       "    --sklearn-color-background: var(--sg-background-color, var(--theme-background, var(--jp-layout-color0, #111)));\n",
       "    --sklearn-color-border-box: var(--sg-text-color, var(--theme-code-foreground, var(--jp-content-font-color1, white)));\n",
       "    --sklearn-color-icon: #878787;\n",
       "  }\n",
       "}\n",
       "\n",
       "#sk-container-id-1 {\n",
       "  color: var(--sklearn-color-text);\n",
       "}\n",
       "\n",
       "#sk-container-id-1 pre {\n",
       "  padding: 0;\n",
       "}\n",
       "\n",
       "#sk-container-id-1 input.sk-hidden--visually {\n",
       "  border: 0;\n",
       "  clip: rect(1px 1px 1px 1px);\n",
       "  clip: rect(1px, 1px, 1px, 1px);\n",
       "  height: 1px;\n",
       "  margin: -1px;\n",
       "  overflow: hidden;\n",
       "  padding: 0;\n",
       "  position: absolute;\n",
       "  width: 1px;\n",
       "}\n",
       "\n",
       "#sk-container-id-1 div.sk-dashed-wrapped {\n",
       "  border: 1px dashed var(--sklearn-color-line);\n",
       "  margin: 0 0.4em 0.5em 0.4em;\n",
       "  box-sizing: border-box;\n",
       "  padding-bottom: 0.4em;\n",
       "  background-color: var(--sklearn-color-background);\n",
       "}\n",
       "\n",
       "#sk-container-id-1 div.sk-container {\n",
       "  /* jupyter's `normalize.less` sets `[hidden] { display: none; }`\n",
       "     but bootstrap.min.css set `[hidden] { display: none !important; }`\n",
       "     so we also need the `!important` here to be able to override the\n",
       "     default hidden behavior on the sphinx rendered scikit-learn.org.\n",
       "     See: https://github.com/scikit-learn/scikit-learn/issues/21755 */\n",
       "  display: inline-block !important;\n",
       "  position: relative;\n",
       "}\n",
       "\n",
       "#sk-container-id-1 div.sk-text-repr-fallback {\n",
       "  display: none;\n",
       "}\n",
       "\n",
       "div.sk-parallel-item,\n",
       "div.sk-serial,\n",
       "div.sk-item {\n",
       "  /* draw centered vertical line to link estimators */\n",
       "  background-image: linear-gradient(var(--sklearn-color-text-on-default-background), var(--sklearn-color-text-on-default-background));\n",
       "  background-size: 2px 100%;\n",
       "  background-repeat: no-repeat;\n",
       "  background-position: center center;\n",
       "}\n",
       "\n",
       "/* Parallel-specific style estimator block */\n",
       "\n",
       "#sk-container-id-1 div.sk-parallel-item::after {\n",
       "  content: \"\";\n",
       "  width: 100%;\n",
       "  border-bottom: 2px solid var(--sklearn-color-text-on-default-background);\n",
       "  flex-grow: 1;\n",
       "}\n",
       "\n",
       "#sk-container-id-1 div.sk-parallel {\n",
       "  display: flex;\n",
       "  align-items: stretch;\n",
       "  justify-content: center;\n",
       "  background-color: var(--sklearn-color-background);\n",
       "  position: relative;\n",
       "}\n",
       "\n",
       "#sk-container-id-1 div.sk-parallel-item {\n",
       "  display: flex;\n",
       "  flex-direction: column;\n",
       "}\n",
       "\n",
       "#sk-container-id-1 div.sk-parallel-item:first-child::after {\n",
       "  align-self: flex-end;\n",
       "  width: 50%;\n",
       "}\n",
       "\n",
       "#sk-container-id-1 div.sk-parallel-item:last-child::after {\n",
       "  align-self: flex-start;\n",
       "  width: 50%;\n",
       "}\n",
       "\n",
       "#sk-container-id-1 div.sk-parallel-item:only-child::after {\n",
       "  width: 0;\n",
       "}\n",
       "\n",
       "/* Serial-specific style estimator block */\n",
       "\n",
       "#sk-container-id-1 div.sk-serial {\n",
       "  display: flex;\n",
       "  flex-direction: column;\n",
       "  align-items: center;\n",
       "  background-color: var(--sklearn-color-background);\n",
       "  padding-right: 1em;\n",
       "  padding-left: 1em;\n",
       "}\n",
       "\n",
       "\n",
       "/* Toggleable style: style used for estimator/Pipeline/ColumnTransformer box that is\n",
       "clickable and can be expanded/collapsed.\n",
       "- Pipeline and ColumnTransformer use this feature and define the default style\n",
       "- Estimators will overwrite some part of the style using the `sk-estimator` class\n",
       "*/\n",
       "\n",
       "/* Pipeline and ColumnTransformer style (default) */\n",
       "\n",
       "#sk-container-id-1 div.sk-toggleable {\n",
       "  /* Default theme specific background. It is overwritten whether we have a\n",
       "  specific estimator or a Pipeline/ColumnTransformer */\n",
       "  background-color: var(--sklearn-color-background);\n",
       "}\n",
       "\n",
       "/* Toggleable label */\n",
       "#sk-container-id-1 label.sk-toggleable__label {\n",
       "  cursor: pointer;\n",
       "  display: flex;\n",
       "  width: 100%;\n",
       "  margin-bottom: 0;\n",
       "  padding: 0.5em;\n",
       "  box-sizing: border-box;\n",
       "  text-align: center;\n",
       "  align-items: start;\n",
       "  justify-content: space-between;\n",
       "  gap: 0.5em;\n",
       "}\n",
       "\n",
       "#sk-container-id-1 label.sk-toggleable__label .caption {\n",
       "  font-size: 0.6rem;\n",
       "  font-weight: lighter;\n",
       "  color: var(--sklearn-color-text-muted);\n",
       "}\n",
       "\n",
       "#sk-container-id-1 label.sk-toggleable__label-arrow:before {\n",
       "  /* Arrow on the left of the label */\n",
       "  content: \"▸\";\n",
       "  float: left;\n",
       "  margin-right: 0.25em;\n",
       "  color: var(--sklearn-color-icon);\n",
       "}\n",
       "\n",
       "#sk-container-id-1 label.sk-toggleable__label-arrow:hover:before {\n",
       "  color: var(--sklearn-color-text);\n",
       "}\n",
       "\n",
       "/* Toggleable content - dropdown */\n",
       "\n",
       "#sk-container-id-1 div.sk-toggleable__content {\n",
       "  max-height: 0;\n",
       "  max-width: 0;\n",
       "  overflow: hidden;\n",
       "  text-align: left;\n",
       "  /* unfitted */\n",
       "  background-color: var(--sklearn-color-unfitted-level-0);\n",
       "}\n",
       "\n",
       "#sk-container-id-1 div.sk-toggleable__content.fitted {\n",
       "  /* fitted */\n",
       "  background-color: var(--sklearn-color-fitted-level-0);\n",
       "}\n",
       "\n",
       "#sk-container-id-1 div.sk-toggleable__content pre {\n",
       "  margin: 0.2em;\n",
       "  border-radius: 0.25em;\n",
       "  color: var(--sklearn-color-text);\n",
       "  /* unfitted */\n",
       "  background-color: var(--sklearn-color-unfitted-level-0);\n",
       "}\n",
       "\n",
       "#sk-container-id-1 div.sk-toggleable__content.fitted pre {\n",
       "  /* unfitted */\n",
       "  background-color: var(--sklearn-color-fitted-level-0);\n",
       "}\n",
       "\n",
       "#sk-container-id-1 input.sk-toggleable__control:checked~div.sk-toggleable__content {\n",
       "  /* Expand drop-down */\n",
       "  max-height: 200px;\n",
       "  max-width: 100%;\n",
       "  overflow: auto;\n",
       "}\n",
       "\n",
       "#sk-container-id-1 input.sk-toggleable__control:checked~label.sk-toggleable__label-arrow:before {\n",
       "  content: \"▾\";\n",
       "}\n",
       "\n",
       "/* Pipeline/ColumnTransformer-specific style */\n",
       "\n",
       "#sk-container-id-1 div.sk-label input.sk-toggleable__control:checked~label.sk-toggleable__label {\n",
       "  color: var(--sklearn-color-text);\n",
       "  background-color: var(--sklearn-color-unfitted-level-2);\n",
       "}\n",
       "\n",
       "#sk-container-id-1 div.sk-label.fitted input.sk-toggleable__control:checked~label.sk-toggleable__label {\n",
       "  background-color: var(--sklearn-color-fitted-level-2);\n",
       "}\n",
       "\n",
       "/* Estimator-specific style */\n",
       "\n",
       "/* Colorize estimator box */\n",
       "#sk-container-id-1 div.sk-estimator input.sk-toggleable__control:checked~label.sk-toggleable__label {\n",
       "  /* unfitted */\n",
       "  background-color: var(--sklearn-color-unfitted-level-2);\n",
       "}\n",
       "\n",
       "#sk-container-id-1 div.sk-estimator.fitted input.sk-toggleable__control:checked~label.sk-toggleable__label {\n",
       "  /* fitted */\n",
       "  background-color: var(--sklearn-color-fitted-level-2);\n",
       "}\n",
       "\n",
       "#sk-container-id-1 div.sk-label label.sk-toggleable__label,\n",
       "#sk-container-id-1 div.sk-label label {\n",
       "  /* The background is the default theme color */\n",
       "  color: var(--sklearn-color-text-on-default-background);\n",
       "}\n",
       "\n",
       "/* On hover, darken the color of the background */\n",
       "#sk-container-id-1 div.sk-label:hover label.sk-toggleable__label {\n",
       "  color: var(--sklearn-color-text);\n",
       "  background-color: var(--sklearn-color-unfitted-level-2);\n",
       "}\n",
       "\n",
       "/* Label box, darken color on hover, fitted */\n",
       "#sk-container-id-1 div.sk-label.fitted:hover label.sk-toggleable__label.fitted {\n",
       "  color: var(--sklearn-color-text);\n",
       "  background-color: var(--sklearn-color-fitted-level-2);\n",
       "}\n",
       "\n",
       "/* Estimator label */\n",
       "\n",
       "#sk-container-id-1 div.sk-label label {\n",
       "  font-family: monospace;\n",
       "  font-weight: bold;\n",
       "  display: inline-block;\n",
       "  line-height: 1.2em;\n",
       "}\n",
       "\n",
       "#sk-container-id-1 div.sk-label-container {\n",
       "  text-align: center;\n",
       "}\n",
       "\n",
       "/* Estimator-specific */\n",
       "#sk-container-id-1 div.sk-estimator {\n",
       "  font-family: monospace;\n",
       "  border: 1px dotted var(--sklearn-color-border-box);\n",
       "  border-radius: 0.25em;\n",
       "  box-sizing: border-box;\n",
       "  margin-bottom: 0.5em;\n",
       "  /* unfitted */\n",
       "  background-color: var(--sklearn-color-unfitted-level-0);\n",
       "}\n",
       "\n",
       "#sk-container-id-1 div.sk-estimator.fitted {\n",
       "  /* fitted */\n",
       "  background-color: var(--sklearn-color-fitted-level-0);\n",
       "}\n",
       "\n",
       "/* on hover */\n",
       "#sk-container-id-1 div.sk-estimator:hover {\n",
       "  /* unfitted */\n",
       "  background-color: var(--sklearn-color-unfitted-level-2);\n",
       "}\n",
       "\n",
       "#sk-container-id-1 div.sk-estimator.fitted:hover {\n",
       "  /* fitted */\n",
       "  background-color: var(--sklearn-color-fitted-level-2);\n",
       "}\n",
       "\n",
       "/* Specification for estimator info (e.g. \"i\" and \"?\") */\n",
       "\n",
       "/* Common style for \"i\" and \"?\" */\n",
       "\n",
       ".sk-estimator-doc-link,\n",
       "a:link.sk-estimator-doc-link,\n",
       "a:visited.sk-estimator-doc-link {\n",
       "  float: right;\n",
       "  font-size: smaller;\n",
       "  line-height: 1em;\n",
       "  font-family: monospace;\n",
       "  background-color: var(--sklearn-color-background);\n",
       "  border-radius: 1em;\n",
       "  height: 1em;\n",
       "  width: 1em;\n",
       "  text-decoration: none !important;\n",
       "  margin-left: 0.5em;\n",
       "  text-align: center;\n",
       "  /* unfitted */\n",
       "  border: var(--sklearn-color-unfitted-level-1) 1pt solid;\n",
       "  color: var(--sklearn-color-unfitted-level-1);\n",
       "}\n",
       "\n",
       ".sk-estimator-doc-link.fitted,\n",
       "a:link.sk-estimator-doc-link.fitted,\n",
       "a:visited.sk-estimator-doc-link.fitted {\n",
       "  /* fitted */\n",
       "  border: var(--sklearn-color-fitted-level-1) 1pt solid;\n",
       "  color: var(--sklearn-color-fitted-level-1);\n",
       "}\n",
       "\n",
       "/* On hover */\n",
       "div.sk-estimator:hover .sk-estimator-doc-link:hover,\n",
       ".sk-estimator-doc-link:hover,\n",
       "div.sk-label-container:hover .sk-estimator-doc-link:hover,\n",
       ".sk-estimator-doc-link:hover {\n",
       "  /* unfitted */\n",
       "  background-color: var(--sklearn-color-unfitted-level-3);\n",
       "  color: var(--sklearn-color-background);\n",
       "  text-decoration: none;\n",
       "}\n",
       "\n",
       "div.sk-estimator.fitted:hover .sk-estimator-doc-link.fitted:hover,\n",
       ".sk-estimator-doc-link.fitted:hover,\n",
       "div.sk-label-container:hover .sk-estimator-doc-link.fitted:hover,\n",
       ".sk-estimator-doc-link.fitted:hover {\n",
       "  /* fitted */\n",
       "  background-color: var(--sklearn-color-fitted-level-3);\n",
       "  color: var(--sklearn-color-background);\n",
       "  text-decoration: none;\n",
       "}\n",
       "\n",
       "/* Span, style for the box shown on hovering the info icon */\n",
       ".sk-estimator-doc-link span {\n",
       "  display: none;\n",
       "  z-index: 9999;\n",
       "  position: relative;\n",
       "  font-weight: normal;\n",
       "  right: .2ex;\n",
       "  padding: .5ex;\n",
       "  margin: .5ex;\n",
       "  width: min-content;\n",
       "  min-width: 20ex;\n",
       "  max-width: 50ex;\n",
       "  color: var(--sklearn-color-text);\n",
       "  box-shadow: 2pt 2pt 4pt #999;\n",
       "  /* unfitted */\n",
       "  background: var(--sklearn-color-unfitted-level-0);\n",
       "  border: .5pt solid var(--sklearn-color-unfitted-level-3);\n",
       "}\n",
       "\n",
       ".sk-estimator-doc-link.fitted span {\n",
       "  /* fitted */\n",
       "  background: var(--sklearn-color-fitted-level-0);\n",
       "  border: var(--sklearn-color-fitted-level-3);\n",
       "}\n",
       "\n",
       ".sk-estimator-doc-link:hover span {\n",
       "  display: block;\n",
       "}\n",
       "\n",
       "/* \"?\"-specific style due to the `<a>` HTML tag */\n",
       "\n",
       "#sk-container-id-1 a.estimator_doc_link {\n",
       "  float: right;\n",
       "  font-size: 1rem;\n",
       "  line-height: 1em;\n",
       "  font-family: monospace;\n",
       "  background-color: var(--sklearn-color-background);\n",
       "  border-radius: 1rem;\n",
       "  height: 1rem;\n",
       "  width: 1rem;\n",
       "  text-decoration: none;\n",
       "  /* unfitted */\n",
       "  color: var(--sklearn-color-unfitted-level-1);\n",
       "  border: var(--sklearn-color-unfitted-level-1) 1pt solid;\n",
       "}\n",
       "\n",
       "#sk-container-id-1 a.estimator_doc_link.fitted {\n",
       "  /* fitted */\n",
       "  border: var(--sklearn-color-fitted-level-1) 1pt solid;\n",
       "  color: var(--sklearn-color-fitted-level-1);\n",
       "}\n",
       "\n",
       "/* On hover */\n",
       "#sk-container-id-1 a.estimator_doc_link:hover {\n",
       "  /* unfitted */\n",
       "  background-color: var(--sklearn-color-unfitted-level-3);\n",
       "  color: var(--sklearn-color-background);\n",
       "  text-decoration: none;\n",
       "}\n",
       "\n",
       "#sk-container-id-1 a.estimator_doc_link.fitted:hover {\n",
       "  /* fitted */\n",
       "  background-color: var(--sklearn-color-fitted-level-3);\n",
       "}\n",
       "</style><div id=\"sk-container-id-1\" class=\"sk-top-container\"><div class=\"sk-text-repr-fallback\"><pre>LogisticRegression()</pre><b>In a Jupyter environment, please rerun this cell to show the HTML representation or trust the notebook. <br />On GitHub, the HTML representation is unable to render, please try loading this page with nbviewer.org.</b></div><div class=\"sk-container\" hidden><div class=\"sk-item\"><div class=\"sk-estimator fitted sk-toggleable\"><input class=\"sk-toggleable__control sk-hidden--visually\" id=\"sk-estimator-id-1\" type=\"checkbox\" checked><label for=\"sk-estimator-id-1\" class=\"sk-toggleable__label fitted sk-toggleable__label-arrow\"><div><div>LogisticRegression</div></div><div><a class=\"sk-estimator-doc-link fitted\" rel=\"noreferrer\" target=\"_blank\" href=\"https://scikit-learn.org/1.6/modules/generated/sklearn.linear_model.LogisticRegression.html\">?<span>Documentation for LogisticRegression</span></a><span class=\"sk-estimator-doc-link fitted\">i<span>Fitted</span></span></div></label><div class=\"sk-toggleable__content fitted\"><pre>LogisticRegression()</pre></div> </div></div></div></div>"
      ],
      "text/plain": [
       "LogisticRegression()"
      ]
     },
     "execution_count": 30,
     "metadata": {},
     "output_type": "execute_result"
    }
   ],
   "source": [
    "clf.fit(x_train,y_train)"
   ]
  },
  {
   "cell_type": "code",
   "execution_count": 31,
   "metadata": {
    "id": "7e6xBRXWpegd"
   },
   "outputs": [],
   "source": [
    "x_pred = clf.predict(x_test)"
   ]
  },
  {
   "cell_type": "code",
   "execution_count": 32,
   "metadata": {
    "colab": {
     "base_uri": "https://localhost:8080/",
     "height": 554
    },
    "id": "uShs6XJ3qZyh",
    "outputId": "b231e430-a315-4a7c-fcf1-8b057909c12a",
    "scrolled": true
   },
   "outputs": [
    {
     "data": {
      "text/plain": [
       "203    1\n",
       "266    0\n",
       "152    0\n",
       "9      0\n",
       "233    1\n",
       "226    0\n",
       "196    0\n",
       "109    0\n",
       "5      1\n",
       "175    1\n",
       "237    1\n",
       "57     1\n",
       "218    0\n",
       "45     1\n",
       "182    0\n",
       "221    1\n",
       "289    1\n",
       "211    1\n",
       "148    0\n",
       "165    1\n",
       "78     0\n",
       "113    0\n",
       "249    1\n",
       "250    0\n",
       "104    1\n",
       "42     1\n",
       "281    1\n",
       "295    1\n",
       "157    1\n",
       "238    0\n",
       "17     0\n",
       "164    0\n",
       "33     0\n",
       "24     0\n",
       "215    1\n",
       "119    1\n",
       "7      0\n",
       "90     1\n",
       "46     0\n",
       "73     0\n",
       "93     1\n",
       "76     0\n",
       "286    0\n",
       "60     1\n",
       "77     1\n",
       "Name: placement, dtype: int64"
      ]
     },
     "execution_count": 32,
     "metadata": {},
     "output_type": "execute_result"
    }
   ],
   "source": [
    "y_test"
   ]
  },
  {
   "cell_type": "code",
   "execution_count": 33,
   "metadata": {
    "id": "rE2BR6_nqcHu"
   },
   "outputs": [],
   "source": [
    "from sklearn.metrics import accuracy_score"
   ]
  },
  {
   "cell_type": "code",
   "execution_count": 34,
   "metadata": {
    "colab": {
     "base_uri": "https://localhost:8080/"
    },
    "id": "qa61zM2mq3Kj",
    "outputId": "afa09b5b-25e6-4c03-cfd6-7a111d2b5024"
   },
   "outputs": [
    {
     "data": {
      "text/plain": [
       "0.9555555555555556"
      ]
     },
     "execution_count": 34,
     "metadata": {},
     "output_type": "execute_result"
    }
   ],
   "source": [
    "accuracy_score(y_test,x_pred)"
   ]
  },
  {
   "cell_type": "code",
   "execution_count": 35,
   "metadata": {
    "id": "DXpZtGJsrHR9"
   },
   "outputs": [],
   "source": [
    "from mlxtend.plotting import plot_decision_regions"
   ]
  },
  {
   "cell_type": "code",
   "execution_count": 36,
   "metadata": {
    "colab": {
     "base_uri": "https://localhost:8080/",
     "height": 448
    },
    "id": "7myv5kPDrssk",
    "outputId": "394a89c8-387c-4290-fc72-779ba2eb1393"
   },
   "outputs": [
    {
     "data": {
      "text/plain": [
       "<Axes: >"
      ]
     },
     "execution_count": 36,
     "metadata": {},
     "output_type": "execute_result"
    },
    {
     "data": {
      "image/png": "[encoded data removed]",
      "text/plain": [
       "<Figure size 640x480 with 1 Axes>"
      ]
     },
     "metadata": {},
     "output_type": "display_data"
    }
   ],
   "source": [
    "plot_decision_regions(x_train,y_train.values,clf=clf,legend=2)"
   ]
  },
  {
   "cell_type": "code",
   "execution_count": 37,
   "metadata": {
    "id": "0psmYpbBr8NK"
   },
   "outputs": [],
   "source": [
    "import pickle\n",
    "import joblib"
   ]
  },
  {
   "cell_type": "code",
   "execution_count": 38,
   "metadata": {
    "id": "oQ69zQKEtn62"
   },
   "outputs": [
    {
     "data": {
      "text/plain": [
       "['reg.pkl']"
      ]
     },
     "execution_count": 38,
     "metadata": {},
     "output_type": "execute_result"
    }
   ],
   "source": [
    "pickle.dump(clf,open('reg_model.pkl','wb'))\n",
    "joblib.dump(scalre, 'reg.pkl')\n"
   ]
  },
  {
   "cell_type": "code",
   "execution_count": null,
   "metadata": {},
   "outputs": [],
   "source": []
  }
 ],
 "metadata": {
  "colab": {
   "provenance": []
  },
  "kernelspec": {
   "display_name": "Python 3",
   "language": "python",
   "name": "python3"
  },
  "language_info": {
   "codemirror_mode": {
    "name": "ipython",
    "version": 3
   },
   "file_extension": ".py",
   "mimetype": "text/x-python",
   "name": "python",
   "nbconvert_exporter": "python",
   "pygments_lexer": "ipython3",
   "version": "3.11.4"
  }
 },
 "nbformat": 4,
 "nbformat_minor": 4
}
